{
 "cells": [
  {
   "cell_type": "markdown",
   "metadata": {},
   "source": [
    "# WeatherPy\n",
    "----\n",
    "\n",
    "#### Note\n",
    "* Instructions have been included for each segment. You do not have to follow them exactly, but they are included to help you think through the steps."
   ]
  },
  {
   "cell_type": "code",
   "execution_count": 1,
   "metadata": {
    "scrolled": true
   },
   "outputs": [],
   "source": [
    "# Dependencies and Setup\n",
    "import matplotlib.pyplot as plt\n",
    "import pandas as pd\n",
    "import numpy as np\n",
    "import requests\n",
    "import time\n",
    "from scipy.stats import linregress\n",
    "from pprint import pprint \n",
    "import json\n",
    "# Import API key\n",
    "from spaghetti import weather_api_key as w_key\n",
    "\n",
    "# Incorporated citipy to determine city based on latitude and longitude\n",
    "from citipy import citipy\n",
    "\n",
    "# Output File (CSV)\n",
    "output_data_file = \"output_data/cities.csv\"\n",
    "\n",
    "# Range of latitudes and longitudes\n",
    "lat_range = (-90, 90)\n",
    "lng_range = (-180, 180)"
   ]
  },
  {
   "cell_type": "markdown",
   "metadata": {},
   "source": [
    "## Generate Cities List"
   ]
  },
  {
   "cell_type": "code",
   "execution_count": 2,
   "metadata": {},
   "outputs": [
    {
     "data": {
      "text/plain": [
       "581"
      ]
     },
     "execution_count": 2,
     "metadata": {},
     "output_type": "execute_result"
    }
   ],
   "source": [
    "# List for holding lat_lngs and cities\n",
    "lat_lngs = []\n",
    "cities = []\n",
    "\n",
    "# Create a set of random lat and lng combinations\n",
    "lats = np.random.uniform(low=-90.000, high=90.000, size=1500)\n",
    "lngs = np.random.uniform(low=-180.000, high=180.000, size=1500)\n",
    "lat_lngs = zip(lats, lngs)\n",
    "\n",
    "# Identify nearest city for each lat, lng combination\n",
    "for lat_lng in lat_lngs:\n",
    "    city = citipy.nearest_city(lat_lng[0], lat_lng[1]).city_name\n",
    "    \n",
    "    # If the city is unique, then add it to a our cities list\n",
    "    if city not in cities:\n",
    "        cities.append(city)\n",
    "\n",
    "# Print the city count to confirm sufficient count\n",
    "len(cities)"
   ]
  },
  {
   "cell_type": "markdown",
   "metadata": {},
   "source": [
    "\n",
    "## Perform API Calls\n",
    "* Perform a weather check on each city using a series of successive API calls.\n",
    "* Include a print log of each city as it'sbeing processed (with the city number and city name)."
   ]
  },
  {
   "cell_type": "code",
   "execution_count": 3,
   "metadata": {},
   "outputs": [
    {
     "name": "stdout",
     "output_type": "stream",
     "text": [
      "attawapiskat doesnt exists\n",
      "barentsburg doesnt exists\n",
      "jiddah doesnt exists\n",
      "yirol doesnt exists\n",
      "umzimvubu doesnt exists\n",
      "saleaula doesnt exists\n",
      "grand river south east doesnt exists\n",
      "taolanaro doesnt exists\n",
      "ruatoria doesnt exists\n",
      "tunduru doesnt exists\n",
      "amderma doesnt exists\n",
      "barbar doesnt exists\n",
      "belushya guba doesnt exists\n",
      "mouzakion doesnt exists\n",
      "cholan doesnt exists\n",
      "sentyabrskiy doesnt exists\n",
      "yuzhno-yeniseyskiy doesnt exists\n",
      "kinanah doesnt exists\n",
      "samusu doesnt exists\n",
      "matto doesnt exists\n",
      "tumannyy doesnt exists\n",
      "kachikau doesnt exists\n",
      "tsihombe doesnt exists\n",
      "vaitupu doesnt exists\n",
      "illoqqortoormiut doesnt exists\n",
      "louisbourg doesnt exists\n",
      "mys shmidta doesnt exists\n",
      "vestbygda doesnt exists\n",
      "ngukurr doesnt exists\n",
      "malwan doesnt exists\n",
      "bur gabo doesnt exists\n",
      "paradwip doesnt exists\n",
      "mocambique doesnt exists\n",
      "galiwinku doesnt exists\n",
      "tidore doesnt exists\n",
      "nizhneyansk doesnt exists\n",
      "meyungs doesnt exists\n",
      "kerteh doesnt exists\n",
      "babanusah doesnt exists\n",
      "marcona doesnt exists\n",
      "artyk doesnt exists\n",
      "longlac doesnt exists\n",
      "kamenskoye doesnt exists\n",
      "alotau doesnt exists\n",
      "bargal doesnt exists\n",
      "roberto payan doesnt exists\n",
      "palabuhanratu doesnt exists\n",
      "sorvag doesnt exists\n",
      "ciras doesnt exists\n",
      "utiroa doesnt exists\n",
      "el balyana doesnt exists\n"
     ]
    }
   ],
   "source": [
    "satchel=[]\n",
    "for x in cities:\n",
    "    url = (f'https://api.openweathermap.org/data/2.5/weather?q={x}&appid={w_key}')\n",
    "    response = requests.get(url).json()\n",
    "    try:\n",
    "        if response.get('cod') == 200:\n",
    "            satchel.append(response)\n",
    "        else:\n",
    "            print(x, 'doesnt exists')\n",
    "    except:\n",
    "        print(x, 'this shoudnt happen')"
   ]
  },
  {
   "cell_type": "code",
   "execution_count": 7,
   "metadata": {},
   "outputs": [
    {
     "data": {
      "text/plain": [
       "530"
      ]
     },
     "execution_count": 7,
     "metadata": {},
     "output_type": "execute_result"
    }
   ],
   "source": [
    "len(satchel)"
   ]
  },
  {
   "cell_type": "code",
   "execution_count": 8,
   "metadata": {},
   "outputs": [],
   "source": [
    "len(satchel)\n",
    "bag=[]\n",
    "for i in range(0,530,1):\n",
    "    bag.append(i)\n",
    "weath = pd.DataFrame(bag)"
   ]
  },
  {
   "cell_type": "code",
   "execution_count": 9,
   "metadata": {},
   "outputs": [],
   "source": [
    "city=[]\n",
    "cloud=[]\n",
    "cntry=[]\n",
    "date=[]\n",
    "hum=[]\n",
    "lat=[]\n",
    "lon=[]\n",
    "temp=[]\n",
    "wind=[]\n",
    "for x in satchel:\n",
    "    city.append(x.get('name'))\n",
    "    cloud.append(x.get('clouds').get('all'))\n",
    "    cntry.append(x.get('sys').get('country'))\n",
    "    date.append(x.get('dt'))\n",
    "    hum.append(x.get('main').get('humidity'))\n",
    "    lat.append(x.get('coord').get('lat'))\n",
    "    lon.append(x.get('coord').get('lon'))\n",
    "    temp.append(x.get('main').get('temp_max'))\n",
    "    wind.append(x.get('wind').get('speed'))"
   ]
  },
  {
   "cell_type": "code",
   "execution_count": 10,
   "metadata": {},
   "outputs": [],
   "source": [
    "weath['City']=city\n",
    "weath['Cloudiness']=cloud\n",
    "weath['Country']=cntry\n",
    "weath['Date']=date\n",
    "weath['Humidity']=hum\n",
    "weath['Lat']=lat\n",
    "weath['Lng']=lon\n",
    "weath['Max Temp']=temp\n",
    "weath['Wind Speed']=wind"
   ]
  },
  {
   "cell_type": "code",
   "execution_count": 11,
   "metadata": {},
   "outputs": [
    {
     "data": {
      "text/html": [
       "<div>\n",
       "<style scoped>\n",
       "    .dataframe tbody tr th:only-of-type {\n",
       "        vertical-align: middle;\n",
       "    }\n",
       "\n",
       "    .dataframe tbody tr th {\n",
       "        vertical-align: top;\n",
       "    }\n",
       "\n",
       "    .dataframe thead th {\n",
       "        text-align: right;\n",
       "    }\n",
       "</style>\n",
       "<table border=\"1\" class=\"dataframe\">\n",
       "  <thead>\n",
       "    <tr style=\"text-align: right;\">\n",
       "      <th></th>\n",
       "      <th>City</th>\n",
       "      <th>Cloudiness</th>\n",
       "      <th>Country</th>\n",
       "      <th>Date</th>\n",
       "      <th>Humidity</th>\n",
       "      <th>Lat</th>\n",
       "      <th>Lng</th>\n",
       "      <th>Max Temp</th>\n",
       "      <th>Wind Speed</th>\n",
       "    </tr>\n",
       "  </thead>\n",
       "  <tbody>\n",
       "    <tr>\n",
       "      <th>0</th>\n",
       "      <td>Tuktoyaktuk</td>\n",
       "      <td>90</td>\n",
       "      <td>CA</td>\n",
       "      <td>1580836288</td>\n",
       "      <td>75</td>\n",
       "      <td>69.45</td>\n",
       "      <td>-133.04</td>\n",
       "      <td>-18.400</td>\n",
       "      <td>5.70</td>\n",
       "    </tr>\n",
       "    <tr>\n",
       "      <th>1</th>\n",
       "      <td>Umm Lajj</td>\n",
       "      <td>0</td>\n",
       "      <td>SA</td>\n",
       "      <td>1580836289</td>\n",
       "      <td>64</td>\n",
       "      <td>25.02</td>\n",
       "      <td>37.27</td>\n",
       "      <td>62.708</td>\n",
       "      <td>2.25</td>\n",
       "    </tr>\n",
       "    <tr>\n",
       "      <th>2</th>\n",
       "      <td>Miraflores</td>\n",
       "      <td>40</td>\n",
       "      <td>MX</td>\n",
       "      <td>1580836289</td>\n",
       "      <td>42</td>\n",
       "      <td>19.22</td>\n",
       "      <td>-98.81</td>\n",
       "      <td>73.400</td>\n",
       "      <td>7.70</td>\n",
       "    </tr>\n",
       "    <tr>\n",
       "      <th>3</th>\n",
       "      <td>San Patricio</td>\n",
       "      <td>75</td>\n",
       "      <td>MX</td>\n",
       "      <td>1580836290</td>\n",
       "      <td>78</td>\n",
       "      <td>19.22</td>\n",
       "      <td>-104.70</td>\n",
       "      <td>77.000</td>\n",
       "      <td>1.39</td>\n",
       "    </tr>\n",
       "    <tr>\n",
       "      <th>4</th>\n",
       "      <td>Norman Wells</td>\n",
       "      <td>40</td>\n",
       "      <td>CA</td>\n",
       "      <td>1580836291</td>\n",
       "      <td>75</td>\n",
       "      <td>65.28</td>\n",
       "      <td>-126.83</td>\n",
       "      <td>-20.200</td>\n",
       "      <td>2.60</td>\n",
       "    </tr>\n",
       "    <tr>\n",
       "      <th>...</th>\n",
       "      <td>...</td>\n",
       "      <td>...</td>\n",
       "      <td>...</td>\n",
       "      <td>...</td>\n",
       "      <td>...</td>\n",
       "      <td>...</td>\n",
       "      <td>...</td>\n",
       "      <td>...</td>\n",
       "      <td>...</td>\n",
       "    </tr>\n",
       "    <tr>\n",
       "      <th>525</th>\n",
       "      <td>Asosa</td>\n",
       "      <td>19</td>\n",
       "      <td>ET</td>\n",
       "      <td>1580836597</td>\n",
       "      <td>25</td>\n",
       "      <td>10.07</td>\n",
       "      <td>34.53</td>\n",
       "      <td>73.238</td>\n",
       "      <td>2.42</td>\n",
       "    </tr>\n",
       "    <tr>\n",
       "      <th>526</th>\n",
       "      <td>Inirida</td>\n",
       "      <td>20</td>\n",
       "      <td>CO</td>\n",
       "      <td>1580836598</td>\n",
       "      <td>40</td>\n",
       "      <td>3.87</td>\n",
       "      <td>-67.92</td>\n",
       "      <td>98.438</td>\n",
       "      <td>0.39</td>\n",
       "    </tr>\n",
       "    <tr>\n",
       "      <th>527</th>\n",
       "      <td>Arona</td>\n",
       "      <td>20</td>\n",
       "      <td>ES</td>\n",
       "      <td>1580836598</td>\n",
       "      <td>43</td>\n",
       "      <td>28.10</td>\n",
       "      <td>-16.68</td>\n",
       "      <td>77.000</td>\n",
       "      <td>5.10</td>\n",
       "    </tr>\n",
       "    <tr>\n",
       "      <th>528</th>\n",
       "      <td>Trojes</td>\n",
       "      <td>75</td>\n",
       "      <td>AL</td>\n",
       "      <td>1580836599</td>\n",
       "      <td>67</td>\n",
       "      <td>41.76</td>\n",
       "      <td>19.96</td>\n",
       "      <td>60.800</td>\n",
       "      <td>8.20</td>\n",
       "    </tr>\n",
       "    <tr>\n",
       "      <th>529</th>\n",
       "      <td>El Sauzal de Rodriguez</td>\n",
       "      <td>3</td>\n",
       "      <td>MX</td>\n",
       "      <td>1580836599</td>\n",
       "      <td>25</td>\n",
       "      <td>31.90</td>\n",
       "      <td>-116.68</td>\n",
       "      <td>55.004</td>\n",
       "      <td>4.47</td>\n",
       "    </tr>\n",
       "  </tbody>\n",
       "</table>\n",
       "<p>530 rows × 9 columns</p>\n",
       "</div>"
      ],
      "text/plain": [
       "                       City  Cloudiness Country        Date  Humidity    Lat  \\\n",
       "0               Tuktoyaktuk          90      CA  1580836288        75  69.45   \n",
       "1                  Umm Lajj           0      SA  1580836289        64  25.02   \n",
       "2                Miraflores          40      MX  1580836289        42  19.22   \n",
       "3              San Patricio          75      MX  1580836290        78  19.22   \n",
       "4              Norman Wells          40      CA  1580836291        75  65.28   \n",
       "..                      ...         ...     ...         ...       ...    ...   \n",
       "525                   Asosa          19      ET  1580836597        25  10.07   \n",
       "526                 Inirida          20      CO  1580836598        40   3.87   \n",
       "527                   Arona          20      ES  1580836598        43  28.10   \n",
       "528                  Trojes          75      AL  1580836599        67  41.76   \n",
       "529  El Sauzal de Rodriguez           3      MX  1580836599        25  31.90   \n",
       "\n",
       "        Lng  Max Temp  Wind Speed  \n",
       "0   -133.04   -18.400        5.70  \n",
       "1     37.27    62.708        2.25  \n",
       "2    -98.81    73.400        7.70  \n",
       "3   -104.70    77.000        1.39  \n",
       "4   -126.83   -20.200        2.60  \n",
       "..      ...       ...         ...  \n",
       "525   34.53    73.238        2.42  \n",
       "526  -67.92    98.438        0.39  \n",
       "527  -16.68    77.000        5.10  \n",
       "528   19.96    60.800        8.20  \n",
       "529 -116.68    55.004        4.47  \n",
       "\n",
       "[530 rows x 9 columns]"
      ]
     },
     "execution_count": 11,
     "metadata": {},
     "output_type": "execute_result"
    }
   ],
   "source": [
    "weath_er=weath.drop([0], axis=1)\n",
    "weath_er['Max Temp']=(((weath_er['Max Temp']-273.15)*1.8)+32)\n",
    "weath_er"
   ]
  },
  {
   "cell_type": "code",
   "execution_count": 16,
   "metadata": {},
   "outputs": [
    {
     "data": {
      "text/plain": [
       "75"
      ]
     },
     "execution_count": 16,
     "metadata": {},
     "output_type": "execute_result"
    }
   ],
   "source": [
    "city = \"tuktoyaktuk\"\n",
    "url = (f'https://api.openweathermap.org/data/2.5/weather?q={city}&appid={w_key}')\n",
    "response = requests.get(url).json()\n",
    "#response[0].get('sys').get('country')\n",
    "\n",
    "#print(json.dumps(data, indent=4, sort_keys=True))\n",
    "#print(requests.get(url))\n",
    "response.get('main').get('humidity')"
   ]
  },
  {
   "cell_type": "code",
   "execution_count": null,
   "metadata": {},
   "outputs": [],
   "source": [
    "\n",
    "# for x in cities_df:\n",
    "#     for index, row in cities_df.iterrows():\n",
    "#         x = row['City']\n",
    "#         url = (f'https://api.openweathermap.org/data/2.5/weather?q={x}&appid={w_key}')\n",
    "#         response = requests.get(url).json()\n",
    "#         try:\n",
    "#             if response.get('cod') == 200:\n",
    "#                 weather_df.loc[index, 'City'] = response.get('name')\n",
    "#                 weather_df.loc[index, 'Cloudiness'] = response.get('clouds').get('all')\n",
    "#                 weather_df.loc[index, 'Country'] = response.get('sys').get('country')\n",
    "#                 weather_df.loc[index, 'Date'] = response.get('dt')\n",
    "#                 weather_df.loc[index, 'Humidity'] = response.get('main').get('humidity')\n",
    "#                 weather_df.loc[index,'Lat'] = response.get('coord').get('lat')\n",
    "#                 weather_df.loc[index, 'Lng'] = response.get('coord').get('lon')\n",
    "#                 weather_df.loc[index, 'Max Temp'] = response.get('main').get('temp_max')\n",
    "#                 weather_df.loc[index, 'Wind Speed'] = response.get('wind').get('speed')\n",
    "#             else:\n",
    "#                 print(x, 'doesnt exists')\n",
    "#         except:\n",
    "            "
   ]
  },
  {
   "cell_type": "markdown",
   "metadata": {},
   "source": [
    "### Convert Raw Data to DataFrame\n",
    "* Export the city data into a .csv.\n",
    "* Display the DataFrame"
   ]
  },
  {
   "cell_type": "code",
   "execution_count": 71,
   "metadata": {},
   "outputs": [],
   "source": []
  },
  {
   "cell_type": "code",
   "execution_count": 14,
   "metadata": {},
   "outputs": [
    {
     "data": {
      "text/html": [
       "<div>\n",
       "<style scoped>\n",
       "    .dataframe tbody tr th:only-of-type {\n",
       "        vertical-align: middle;\n",
       "    }\n",
       "\n",
       "    .dataframe tbody tr th {\n",
       "        vertical-align: top;\n",
       "    }\n",
       "\n",
       "    .dataframe thead th {\n",
       "        text-align: right;\n",
       "    }\n",
       "</style>\n",
       "<table border=\"1\" class=\"dataframe\">\n",
       "  <thead>\n",
       "    <tr style=\"text-align: right;\">\n",
       "      <th></th>\n",
       "      <th>City</th>\n",
       "      <th>Cloudiness</th>\n",
       "      <th>Country</th>\n",
       "      <th>Date</th>\n",
       "      <th>Humidity</th>\n",
       "      <th>Lat</th>\n",
       "      <th>Lng</th>\n",
       "      <th>Max Temp</th>\n",
       "      <th>Wind Speed</th>\n",
       "    </tr>\n",
       "  </thead>\n",
       "  <tbody>\n",
       "    <tr>\n",
       "      <th>0</th>\n",
       "      <td>Tuktoyaktuk</td>\n",
       "      <td>90</td>\n",
       "      <td>CA</td>\n",
       "      <td>1580836288</td>\n",
       "      <td>75</td>\n",
       "      <td>69.45</td>\n",
       "      <td>-133.04</td>\n",
       "      <td>-18.400</td>\n",
       "      <td>5.70</td>\n",
       "    </tr>\n",
       "    <tr>\n",
       "      <th>1</th>\n",
       "      <td>Umm Lajj</td>\n",
       "      <td>0</td>\n",
       "      <td>SA</td>\n",
       "      <td>1580836289</td>\n",
       "      <td>64</td>\n",
       "      <td>25.02</td>\n",
       "      <td>37.27</td>\n",
       "      <td>62.708</td>\n",
       "      <td>2.25</td>\n",
       "    </tr>\n",
       "    <tr>\n",
       "      <th>2</th>\n",
       "      <td>Miraflores</td>\n",
       "      <td>40</td>\n",
       "      <td>MX</td>\n",
       "      <td>1580836289</td>\n",
       "      <td>42</td>\n",
       "      <td>19.22</td>\n",
       "      <td>-98.81</td>\n",
       "      <td>73.400</td>\n",
       "      <td>7.70</td>\n",
       "    </tr>\n",
       "    <tr>\n",
       "      <th>3</th>\n",
       "      <td>San Patricio</td>\n",
       "      <td>75</td>\n",
       "      <td>MX</td>\n",
       "      <td>1580836290</td>\n",
       "      <td>78</td>\n",
       "      <td>19.22</td>\n",
       "      <td>-104.70</td>\n",
       "      <td>77.000</td>\n",
       "      <td>1.39</td>\n",
       "    </tr>\n",
       "    <tr>\n",
       "      <th>4</th>\n",
       "      <td>Norman Wells</td>\n",
       "      <td>40</td>\n",
       "      <td>CA</td>\n",
       "      <td>1580836291</td>\n",
       "      <td>75</td>\n",
       "      <td>65.28</td>\n",
       "      <td>-126.83</td>\n",
       "      <td>-20.200</td>\n",
       "      <td>2.60</td>\n",
       "    </tr>\n",
       "    <tr>\n",
       "      <th>...</th>\n",
       "      <td>...</td>\n",
       "      <td>...</td>\n",
       "      <td>...</td>\n",
       "      <td>...</td>\n",
       "      <td>...</td>\n",
       "      <td>...</td>\n",
       "      <td>...</td>\n",
       "      <td>...</td>\n",
       "      <td>...</td>\n",
       "    </tr>\n",
       "    <tr>\n",
       "      <th>525</th>\n",
       "      <td>Asosa</td>\n",
       "      <td>19</td>\n",
       "      <td>ET</td>\n",
       "      <td>1580836597</td>\n",
       "      <td>25</td>\n",
       "      <td>10.07</td>\n",
       "      <td>34.53</td>\n",
       "      <td>73.238</td>\n",
       "      <td>2.42</td>\n",
       "    </tr>\n",
       "    <tr>\n",
       "      <th>526</th>\n",
       "      <td>Inirida</td>\n",
       "      <td>20</td>\n",
       "      <td>CO</td>\n",
       "      <td>1580836598</td>\n",
       "      <td>40</td>\n",
       "      <td>3.87</td>\n",
       "      <td>-67.92</td>\n",
       "      <td>98.438</td>\n",
       "      <td>0.39</td>\n",
       "    </tr>\n",
       "    <tr>\n",
       "      <th>527</th>\n",
       "      <td>Arona</td>\n",
       "      <td>20</td>\n",
       "      <td>ES</td>\n",
       "      <td>1580836598</td>\n",
       "      <td>43</td>\n",
       "      <td>28.10</td>\n",
       "      <td>-16.68</td>\n",
       "      <td>77.000</td>\n",
       "      <td>5.10</td>\n",
       "    </tr>\n",
       "    <tr>\n",
       "      <th>528</th>\n",
       "      <td>Trojes</td>\n",
       "      <td>75</td>\n",
       "      <td>AL</td>\n",
       "      <td>1580836599</td>\n",
       "      <td>67</td>\n",
       "      <td>41.76</td>\n",
       "      <td>19.96</td>\n",
       "      <td>60.800</td>\n",
       "      <td>8.20</td>\n",
       "    </tr>\n",
       "    <tr>\n",
       "      <th>529</th>\n",
       "      <td>El Sauzal de Rodriguez</td>\n",
       "      <td>3</td>\n",
       "      <td>MX</td>\n",
       "      <td>1580836599</td>\n",
       "      <td>25</td>\n",
       "      <td>31.90</td>\n",
       "      <td>-116.68</td>\n",
       "      <td>55.004</td>\n",
       "      <td>4.47</td>\n",
       "    </tr>\n",
       "  </tbody>\n",
       "</table>\n",
       "<p>530 rows × 9 columns</p>\n",
       "</div>"
      ],
      "text/plain": [
       "                       City  Cloudiness Country        Date  Humidity    Lat  \\\n",
       "0               Tuktoyaktuk          90      CA  1580836288        75  69.45   \n",
       "1                  Umm Lajj           0      SA  1580836289        64  25.02   \n",
       "2                Miraflores          40      MX  1580836289        42  19.22   \n",
       "3              San Patricio          75      MX  1580836290        78  19.22   \n",
       "4              Norman Wells          40      CA  1580836291        75  65.28   \n",
       "..                      ...         ...     ...         ...       ...    ...   \n",
       "525                   Asosa          19      ET  1580836597        25  10.07   \n",
       "526                 Inirida          20      CO  1580836598        40   3.87   \n",
       "527                   Arona          20      ES  1580836598        43  28.10   \n",
       "528                  Trojes          75      AL  1580836599        67  41.76   \n",
       "529  El Sauzal de Rodriguez           3      MX  1580836599        25  31.90   \n",
       "\n",
       "        Lng  Max Temp  Wind Speed  \n",
       "0   -133.04   -18.400        5.70  \n",
       "1     37.27    62.708        2.25  \n",
       "2    -98.81    73.400        7.70  \n",
       "3   -104.70    77.000        1.39  \n",
       "4   -126.83   -20.200        2.60  \n",
       "..      ...       ...         ...  \n",
       "525   34.53    73.238        2.42  \n",
       "526  -67.92    98.438        0.39  \n",
       "527  -16.68    77.000        5.10  \n",
       "528   19.96    60.800        8.20  \n",
       "529 -116.68    55.004        4.47  \n",
       "\n",
       "[530 rows x 9 columns]"
      ]
     },
     "execution_count": 14,
     "metadata": {},
     "output_type": "execute_result"
    }
   ],
   "source": [
    "weath_er"
   ]
  },
  {
   "cell_type": "code",
   "execution_count": 18,
   "metadata": {},
   "outputs": [],
   "source": [
    "import csv\n",
    "weath_er.to_csv('weath_er.csv', sep=',')"
   ]
  },
  {
   "cell_type": "markdown",
   "metadata": {},
   "source": [
    "### Plotting the Data\n",
    "* Use proper labeling of the plots using plot titles (including date of analysis) and axes labels.\n",
    "* Save the plotted figures as .pngs."
   ]
  },
  {
   "cell_type": "markdown",
   "metadata": {},
   "source": [
    "#### Latitude vs. Temperature Plot"
   ]
  },
  {
   "cell_type": "code",
   "execution_count": 20,
   "metadata": {
    "scrolled": true
   },
   "outputs": [
    {
     "data": {
      "text/plain": [
       "Text(0, 0.5, 'Temperature F')"
      ]
     },
     "execution_count": 20,
     "metadata": {},
     "output_type": "execute_result"
    },
    {
     "data": {
      "image/png": "[encoded data removed]",
      "text/plain": [
       "<Figure size 432x288 with 1 Axes>"
      ]
     },
     "metadata": {
      "needs_background": "light"
     },
     "output_type": "display_data"
    }
   ],
   "source": [
    "x_axis=weath_er['Lat']\n",
    "y_axis=weath_er['Max Temp']\n",
    "plt.scatter(x_axis, y_axis)\n",
    "plt.title(\"Latitiude vs Temperature\")\n",
    "plt.xlabel(\"Latitude\")\n",
    "plt.ylabel(\"Temperature F\")"
   ]
  },
  {
   "cell_type": "markdown",
   "metadata": {},
   "source": [
    "#### Latitude vs. Humidity Plot"
   ]
  },
  {
   "cell_type": "code",
   "execution_count": 21,
   "metadata": {},
   "outputs": [
    {
     "data": {
      "text/plain": [
       "Text(0, 0.5, 'Humidity')"
      ]
     },
     "execution_count": 21,
     "metadata": {},
     "output_type": "execute_result"
    },
    {
     "data": {
      "image/png": "[encoded data removed]",
      "text/plain": [
       "<Figure size 432x288 with 1 Axes>"
      ]
     },
     "metadata": {
      "needs_background": "light"
     },
     "output_type": "display_data"
    }
   ],
   "source": [
    "x_axis=weath_er['Lat']\n",
    "y_axis=weath_er['Humidity']\n",
    "plt.scatter(x_axis, y_axis)\n",
    "plt.title(\"Latitiude vs Humidity\")\n",
    "plt.xlabel(\"Latitude\")\n",
    "plt.ylabel(\"Humidity\")"
   ]
  },
  {
   "cell_type": "markdown",
   "metadata": {},
   "source": [
    "#### Latitude vs. Cloudiness Plot"
   ]
  },
  {
   "cell_type": "code",
   "execution_count": 22,
   "metadata": {},
   "outputs": [
    {
     "data": {
      "text/plain": [
       "Text(0, 0.5, 'Cloud-cover')"
      ]
     },
     "execution_count": 22,
     "metadata": {},
     "output_type": "execute_result"
    },
    {
     "data": {
      "image/png": "[encoded data removed]",
      "text/plain": [
       "<Figure size 432x288 with 1 Axes>"
      ]
     },
     "metadata": {
      "needs_background": "light"
     },
     "output_type": "display_data"
    }
   ],
   "source": [
    "x_axis=weath_er['Lat']\n",
    "y_axis=weath_er['Cloudiness']\n",
    "plt.scatter(x_axis, y_axis)\n",
    "plt.title(\"Latitiude vs Cloudiness\")\n",
    "plt.xlabel(\"Latitude\")\n",
    "plt.ylabel(\"Cloud-cover\")"
   ]
  },
  {
   "cell_type": "markdown",
   "metadata": {},
   "source": [
    "#### Latitude vs. Wind Speed Plot"
   ]
  },
  {
   "cell_type": "code",
   "execution_count": 23,
   "metadata": {},
   "outputs": [
    {
     "data": {
      "text/plain": [
       "Text(0, 0.5, 'Wind Speed')"
      ]
     },
     "execution_count": 23,
     "metadata": {},
     "output_type": "execute_result"
    },
    {
     "data": {
      "image/png": "[encoded data removed]",
      "text/plain": [
       "<Figure size 432x288 with 1 Axes>"
      ]
     },
     "metadata": {
      "needs_background": "light"
     },
     "output_type": "display_data"
    }
   ],
   "source": [
    "x_axis=weath_er['Lat']\n",
    "y_axis=weath_er['Wind Speed']\n",
    "plt.scatter(x_axis, y_axis)\n",
    "plt.title(\"Latitiude vs Wind Speed\")\n",
    "plt.xlabel(\"Latitude\")\n",
    "plt.ylabel(\"Wind Speed\")"
   ]
  },
  {
   "cell_type": "markdown",
   "metadata": {},
   "source": [
    "## Linear Regression"
   ]
  },
  {
   "cell_type": "code",
   "execution_count": null,
   "metadata": {},
   "outputs": [],
   "source": [
    "# OPTIONAL: Create a function to create Linear Regression plots\n",
    "## Convert to floats and store Poverty Rate and Bank Count as x and y values\n",
    "x_values = census_data_complete['Poverty Rate'].astype('float')\n",
    "y_values = census_data_complete['Bank Count'].astype('float')\n",
    "\n",
    "# Run linear regression\n",
    "(slope, intercept, rvalue, pvalue, stderr) = linregress(x_values, y_values)\n",
    "regress_values = x_values * slope + intercept\n",
    "line_eq = \"y = \" + str(round(slope,2)) + \"x + \" + str(round(intercept,2))\n",
    "\n",
    "# Plot scatter plot\n",
    "plt.scatter(x_values,y_values)\n",
    "\n",
    "# Plot regression line\n",
    "plt.plot(x_values,regress_values,\"r-\")\n",
    "plt.annotate(line_eq,(6,10),fontsize=15,color=\"red\")\n",
    "\n",
    "# Label plot\n",
    "plt.xlabel('Poverty Rate')\n",
    "plt.ylabel('Bank Count')\n",
    "\n",
    "# Print r square value\n",
    "print(f\"R squared: {rvalue**2}\")\n",
    "\n",
    "# Show plot\n",
    "plt.show()"
   ]
  },
  {
   "cell_type": "code",
   "execution_count": null,
   "metadata": {},
   "outputs": [],
   "source": [
    "# Create Northern and Southern Hemisphere DataFrames\n"
   ]
  },
  {
   "cell_type": "markdown",
   "metadata": {},
   "source": [
    "####  Northern Hemisphere - Max Temp vs. Latitude Linear Regression"
   ]
  },
  {
   "cell_type": "code",
   "execution_count": null,
   "metadata": {},
   "outputs": [],
   "source": []
  },
  {
   "cell_type": "markdown",
   "metadata": {},
   "source": [
    "####  Southern Hemisphere - Max Temp vs. Latitude Linear Regression"
   ]
  },
  {
   "cell_type": "code",
   "execution_count": null,
   "metadata": {},
   "outputs": [],
   "source": []
  },
  {
   "cell_type": "markdown",
   "metadata": {},
   "source": [
    "####  Northern Hemisphere - Humidity (%) vs. Latitude Linear Regression"
   ]
  },
  {
   "cell_type": "code",
   "execution_count": null,
   "metadata": {},
   "outputs": [],
   "source": []
  },
  {
   "cell_type": "markdown",
   "metadata": {},
   "source": [
    "####  Southern Hemisphere - Humidity (%) vs. Latitude Linear Regression"
   ]
  },
  {
   "cell_type": "code",
   "execution_count": null,
   "metadata": {},
   "outputs": [],
   "source": []
  },
  {
   "cell_type": "markdown",
   "metadata": {},
   "source": [
    "####  Northern Hemisphere - Cloudiness (%) vs. Latitude Linear Regression"
   ]
  },
  {
   "cell_type": "code",
   "execution_count": null,
   "metadata": {},
   "outputs": [],
   "source": []
  },
  {
   "cell_type": "markdown",
   "metadata": {},
   "source": [
    "####  Southern Hemisphere - Cloudiness (%) vs. Latitude Linear Regression"
   ]
  },
  {
   "cell_type": "code",
   "execution_count": null,
   "metadata": {},
   "outputs": [],
   "source": []
  },
  {
   "cell_type": "markdown",
   "metadata": {},
   "source": [
    "####  Northern Hemisphere - Wind Speed (mph) vs. Latitude Linear Regression"
   ]
  },
  {
   "cell_type": "code",
   "execution_count": null,
   "metadata": {},
   "outputs": [],
   "source": []
  },
  {
   "cell_type": "markdown",
   "metadata": {},
   "source": [
    "####  Southern Hemisphere - Wind Speed (mph) vs. Latitude Linear Regression"
   ]
  },
  {
   "cell_type": "code",
   "execution_count": null,
   "metadata": {},
   "outputs": [],
   "source": []
  },
  {
   "cell_type": "code",
   "execution_count": null,
   "metadata": {},
   "outputs": [],
   "source": []
  }
 ],
 "metadata": {
  "anaconda-cloud": {},
  "kernel_info": {
   "name": "python3"
  },
  "kernelspec": {
   "display_name": "Python 3",
   "language": "python",
   "name": "python3"
  },
  "language_info": {
   "codemirror_mode": {
    "name": "ipython",
    "version": 3
   },
   "file_extension": ".py",
   "mimetype": "text/x-python",
   "name": "python",
   "nbconvert_exporter": "python",
   "pygments_lexer": "ipython3",
   "version": "3.6.9"
  },
  "latex_envs": {
   "LaTeX_envs_menu_present": true,
   "autoclose": false,
   "autocomplete": true,
   "bibliofile": "biblio.bib",
   "cite_by": "apalike",
   "current_citInitial": 1,
   "eqLabelWithNumbers": true,
   "eqNumInitial": 1,
   "hotkeys": {
    "equation": "Ctrl-E",
    "itemize": "Ctrl-I"
   },
   "labels_anchors": false,
   "latex_user_defs": false,
   "report_style_numbering": false,
   "user_envs_cfg": false
  },
  "nteract": {
   "version": "0.12.3"
  }
 },
 "nbformat": 4,
 "nbformat_minor": 2
}
